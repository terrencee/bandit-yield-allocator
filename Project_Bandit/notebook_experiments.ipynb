{
 "cells": [
  {
   "cell_type": "code",
   "execution_count": 2,
   "id": "5bf28b59",
   "metadata": {},
   "outputs": [
    {
     "name": "stderr",
     "output_type": "stream",
     "text": [
      "c:\\Users\\chick\\Anaconda3\\lib\\site-packages\\openpyxl\\styles\\stylesheet.py:226: UserWarning: Workbook contains no default style, apply openpyxl's default\n",
      "  warn(\"Workbook contains no default style, apply openpyxl's default\")\n"
     ]
    },
    {
     "name": "stdout",
     "output_type": "stream",
     "text": [
      "['Unnamed: 0', 'Date of Auction', 'Date of Issue', 'Notified Amount', 'Bids Received', 'Unnamed: 5', 'Unnamed: 6', 'Bids Accepted', 'Unnamed: 8', 'Unnamed: 9', 'Devolvement on PDs/ SDs', 'Total Issue (8+9+10)', 'Cut-off Price (₹)', 'Implicit Yield at Cut-off Price (percent)', 'Amount Outstan ding as on Date of Issue (Face Value)', 'Weighted Avg. Price (Rs.)', 'Weighted Avg Yield (per cent)']\n"
     ]
    }
   ],
   "source": [
    "import pandas as pd\n",
    "from pathlib import Path\n",
    "\n",
    "PATH_91 = Path(\"data/HBS Table No. 213 _ Auctions of 91-Day Government of India Treasury Bills.xlsx\")\n",
    "\n",
    "# read with header at row 5 (as detected earlier)\n",
    "t91 = pd.read_excel(PATH_91, sheet_name=0, header=5)\n",
    "\n",
    "print(t91.columns.tolist())\n"
   ]
  },
  {
   "cell_type": "markdown",
   "id": "02ed3df3",
   "metadata": {},
   "source": [
    "The two columns we care about\n",
    "\n",
    "Date column → \"Date of Auction\"\n",
    "\n",
    "This tells us when the auction happened.\n",
    "\n",
    "That will become our index (Date).\n",
    "\n",
    "Yield column → \"Implicit Yield at Cut-off Price (percent)\"\n",
    "\n",
    "This is the yield you’d get if you actually bought at that auction cut-off.\n",
    "\n",
    "That’s the series we want to track (Yield_91d)."
   ]
  },
  {
   "cell_type": "code",
   "execution_count": 3,
   "id": "f7890fcf",
   "metadata": {},
   "outputs": [
    {
     "name": "stdout",
     "output_type": "stream",
     "text": [
      "        Date  Yield_91d\n",
      "0        NaT        NaN\n",
      "1        NaT        NaN\n",
      "2        NaT    13.0000\n",
      "3        NaT        NaN\n",
      "4 2025-08-20     5.4848\n",
      "           Date  Yield_91d\n",
      "1731 1993-01-22     9.6262\n",
      "1732 1993-01-15     9.0816\n",
      "1733 1993-01-08     8.9980\n",
      "1734        NaT        NaN\n",
      "1735        NaT        NaN\n"
     ]
    }
   ],
   "source": [
    "t91 = pd.read_excel(PATH_91, sheet_name=0, header=5)\n",
    "\n",
    "# keep only auction date + cut-off yield\n",
    "tb91 = t91[[\"Date of Auction\", \"Implicit Yield at Cut-off Price (percent)\"]].copy()\n",
    "\n",
    "# rename for simplicity\n",
    "tb91.columns = [\"Date\", \"Yield_91d\"]\n",
    "\n",
    "# clean up\n",
    "tb91[\"Date\"] = pd.to_datetime(tb91[\"Date\"], errors=\"coerce\")\n",
    "tb91[\"Yield_91d\"] = pd.to_numeric(tb91[\"Yield_91d\"], errors=\"coerce\")\n",
    "\n",
    "print(tb91.head())\n",
    "print(tb91.tail())\n"
   ]
  },
  {
   "cell_type": "markdown",
   "id": "c6b374ae",
   "metadata": {},
   "source": [
    "Now we do the same cleaning for 364 day T-bill"
   ]
  },
  {
   "cell_type": "code",
   "execution_count": 4,
   "id": "6213aa7e",
   "metadata": {},
   "outputs": [
    {
     "name": "stderr",
     "output_type": "stream",
     "text": [
      "c:\\Users\\chick\\Anaconda3\\lib\\site-packages\\openpyxl\\styles\\stylesheet.py:226: UserWarning: Workbook contains no default style, apply openpyxl's default\n",
      "  warn(\"Workbook contains no default style, apply openpyxl's default\")\n"
     ]
    },
    {
     "name": "stdout",
     "output_type": "stream",
     "text": [
      "['Unnamed: 0', 'Date of Auction', 'Date of Issue', 'Notified Amount', 'Bids Received', 'Unnamed: 5', 'Unnamed: 6', 'Bids Accepted', 'Unnamed: 8', 'Unnamed: 9', 'Devolvement on PDs/ SDs', 'Total Issue (8+9+10)', 'Cut-off Price (₹)', 'Implicit Yield at Cut-off Price (percent)', 'Amount Outstan ding as on Date of Issue (Face Value)', 'Weighted Avg. Price (Rs.)', 'Weighted Avg Yield (per cent)']\n"
     ]
    }
   ],
   "source": [
    "\n",
    "\n",
    "PATH_364 = Path(\"data/HBS Table No. 215 _ Auctions of 364-Day Government of India Treasury Bills.xlsx\")\n",
    "\n",
    "# read with header at row 5 (as detected earlier)\n",
    "t364 = pd.read_excel(PATH_91, sheet_name=0, header=5)\n",
    "\n",
    "print(t364.columns.tolist())"
   ]
  },
  {
   "cell_type": "code",
   "execution_count": 5,
   "id": "3a187c74",
   "metadata": {},
   "outputs": [
    {
     "name": "stdout",
     "output_type": "stream",
     "text": [
      "        Date  Yield_364d\n",
      "0        NaT         NaN\n",
      "1        NaT         NaN\n",
      "2        NaT     13.0000\n",
      "3        NaT         NaN\n",
      "4 2025-08-20      5.4848\n",
      "           Date  Yield_364d\n",
      "1731 1993-01-22      9.6262\n",
      "1732 1993-01-15      9.0816\n",
      "1733 1993-01-08      8.9980\n",
      "1734        NaT         NaN\n",
      "1735        NaT         NaN\n"
     ]
    }
   ],
   "source": [
    "#df = pd.read_excel(PATH_364, sheet_name=0, header=5)\n",
    "\n",
    "# keep only auction date + cut-off yield\n",
    "tb364 = t364[[\"Date of Auction\", \"Implicit Yield at Cut-off Price (percent)\"]].copy()\n",
    "\n",
    "# rename for simplicity\n",
    "tb364.columns = [\"Date\", \"Yield_364d\"]\n",
    "\n",
    "# clean up\n",
    "tb364[\"Date\"] = pd.to_datetime(tb364[\"Date\"], errors=\"coerce\")\n",
    "tb364[\"Yield_364d\"] = pd.to_numeric(tb364[\"Yield_364d\"], errors=\"coerce\")\n",
    "\n",
    "print(tb364.head())\n",
    "print(tb364.tail())"
   ]
  },
  {
   "cell_type": "markdown",
   "id": "49900c90",
   "metadata": {},
   "source": [
    "We now move to 10Y SGL"
   ]
  },
  {
   "cell_type": "code",
   "execution_count": 6,
   "id": "12f66211",
   "metadata": {},
   "outputs": [
    {
     "name": "stderr",
     "output_type": "stream",
     "text": [
      "c:\\Users\\chick\\Anaconda3\\lib\\site-packages\\openpyxl\\styles\\stylesheet.py:226: UserWarning: Workbook contains no default style, apply openpyxl's default\n",
      "  warn(\"Workbook contains no default style, apply openpyxl's default\")\n"
     ]
    },
    {
     "name": "stdout",
     "output_type": "stream",
     "text": [
      "['Unnamed: 0', 'Term to maturity (in years)', 'Apr.', 'May', 'Jun.', 'Jul.', 'Aug.', 'Sep.', 'Oct.', 'Nov.', 'Dec.', 'Jan.', 'Feb.', 'Mar.']\n"
     ]
    }
   ],
   "source": [
    "#import pandas as pd\n",
    "import re\n",
    "import numpy as np\n",
    "#from pathlib import Path\n",
    "PATH_SGL = Path(\"data\\HBS Table No. 180 _ Yield of SGL Transactions in Government Dated Securiites for Various Maturities.xlsx\")\n",
    "\n",
    "# read with header at row 5 (as detected earlier)\n",
    "sgl = pd.read_excel(PATH_SGL, sheet_name=0, header=5)\n",
    "\n",
    "print(sgl.columns.tolist())"
   ]
  },
  {
   "cell_type": "code",
   "execution_count": 7,
   "id": "bed4175d",
   "metadata": {},
   "outputs": [
    {
     "data": {
      "text/html": [
       "<div>\n",
       "<style scoped>\n",
       "    .dataframe tbody tr th:only-of-type {\n",
       "        vertical-align: middle;\n",
       "    }\n",
       "\n",
       "    .dataframe tbody tr th {\n",
       "        vertical-align: top;\n",
       "    }\n",
       "\n",
       "    .dataframe thead th {\n",
       "        text-align: right;\n",
       "    }\n",
       "</style>\n",
       "<table border=\"1\" class=\"dataframe\">\n",
       "  <thead>\n",
       "    <tr style=\"text-align: right;\">\n",
       "      <th></th>\n",
       "      <th>Unnamed: 0</th>\n",
       "      <th>Term to maturity (in years)</th>\n",
       "      <th>Apr.</th>\n",
       "      <th>May</th>\n",
       "      <th>Jun.</th>\n",
       "      <th>Jul.</th>\n",
       "      <th>Aug.</th>\n",
       "      <th>Sep.</th>\n",
       "      <th>Oct.</th>\n",
       "      <th>Nov.</th>\n",
       "      <th>Dec.</th>\n",
       "      <th>Jan.</th>\n",
       "      <th>Feb.</th>\n",
       "      <th>Mar.</th>\n",
       "    </tr>\n",
       "  </thead>\n",
       "  <tbody>\n",
       "    <tr>\n",
       "      <th>0</th>\n",
       "      <td>NaN</td>\n",
       "      <td>1</td>\n",
       "      <td>2</td>\n",
       "      <td>3</td>\n",
       "      <td>4</td>\n",
       "      <td>5</td>\n",
       "      <td>6</td>\n",
       "      <td>7</td>\n",
       "      <td>8</td>\n",
       "      <td>9</td>\n",
       "      <td>10</td>\n",
       "      <td>11</td>\n",
       "      <td>12</td>\n",
       "      <td>13</td>\n",
       "    </tr>\n",
       "    <tr>\n",
       "      <th>1</th>\n",
       "      <td>NaN</td>\n",
       "      <td>2025-26</td>\n",
       "      <td>NaN</td>\n",
       "      <td>NaN</td>\n",
       "      <td>NaN</td>\n",
       "      <td>NaN</td>\n",
       "      <td>NaN</td>\n",
       "      <td>NaN</td>\n",
       "      <td>NaN</td>\n",
       "      <td>NaN</td>\n",
       "      <td>NaN</td>\n",
       "      <td>NaN</td>\n",
       "      <td>NaN</td>\n",
       "      <td>NaN</td>\n",
       "    </tr>\n",
       "    <tr>\n",
       "      <th>2</th>\n",
       "      <td>NaN</td>\n",
       "      <td>1</td>\n",
       "      <td>6.030978</td>\n",
       "      <td>5.65304</td>\n",
       "      <td>5.551022</td>\n",
       "      <td>5.631113</td>\n",
       "      <td>-</td>\n",
       "      <td>-</td>\n",
       "      <td>-</td>\n",
       "      <td>-</td>\n",
       "      <td>-</td>\n",
       "      <td>-</td>\n",
       "      <td>-</td>\n",
       "      <td>-</td>\n",
       "    </tr>\n",
       "    <tr>\n",
       "      <th>3</th>\n",
       "      <td>NaN</td>\n",
       "      <td>2</td>\n",
       "      <td>6.032608</td>\n",
       "      <td>5.7133</td>\n",
       "      <td>5.736796</td>\n",
       "      <td>5.744028</td>\n",
       "      <td>-</td>\n",
       "      <td>-</td>\n",
       "      <td>-</td>\n",
       "      <td>-</td>\n",
       "      <td>-</td>\n",
       "      <td>-</td>\n",
       "      <td>-</td>\n",
       "      <td>-</td>\n",
       "    </tr>\n",
       "    <tr>\n",
       "      <th>4</th>\n",
       "      <td>NaN</td>\n",
       "      <td>3</td>\n",
       "      <td>6.052532</td>\n",
       "      <td>5.779252</td>\n",
       "      <td>5.917812</td>\n",
       "      <td>5.888192</td>\n",
       "      <td>-</td>\n",
       "      <td>-</td>\n",
       "      <td>-</td>\n",
       "      <td>-</td>\n",
       "      <td>-</td>\n",
       "      <td>-</td>\n",
       "      <td>-</td>\n",
       "      <td>-</td>\n",
       "    </tr>\n",
       "  </tbody>\n",
       "</table>\n",
       "</div>"
      ],
      "text/plain": [
       "   Unnamed: 0 Term to maturity (in years)      Apr.       May      Jun.  \\\n",
       "0         NaN                           1         2         3         4   \n",
       "1         NaN                  2025-26          NaN       NaN       NaN   \n",
       "2         NaN                           1  6.030978   5.65304  5.551022   \n",
       "3         NaN                           2  6.032608    5.7133  5.736796   \n",
       "4         NaN                           3  6.052532  5.779252  5.917812   \n",
       "\n",
       "       Jul. Aug. Sep. Oct. Nov. Dec. Jan. Feb. Mar.  \n",
       "0         5    6    7    8    9   10   11   12   13  \n",
       "1       NaN  NaN  NaN  NaN  NaN  NaN  NaN  NaN  NaN  \n",
       "2  5.631113    -    -    -    -    -    -    -    -  \n",
       "3  5.744028    -    -    -    -    -    -    -    -  \n",
       "4  5.888192    -    -    -    -    -    -    -    -  "
      ]
     },
     "execution_count": 7,
     "metadata": {},
     "output_type": "execute_result"
    }
   ],
   "source": [
    "sgl.head()"
   ]
  },
  {
   "cell_type": "markdown",
   "id": "a3be07e8",
   "metadata": {},
   "source": [
    "by giving value_vars=month_cols later, we guarantee melt won’t pull in junk like 'Unnamed: 0', which can cause KeyError."
   ]
  },
  {
   "cell_type": "code",
   "execution_count": 8,
   "id": "fe434597",
   "metadata": {},
   "outputs": [
    {
     "name": "stdout",
     "output_type": "stream",
     "text": [
      "Month columns detected: ['Apr.', 'May', 'Jun.', 'Jul.', 'Aug.', 'Sep.', 'Oct.', 'Nov.', 'Dec.', 'Jan.', 'Feb.', 'Mar.']\n"
     ]
    }
   ],
   "source": [
    "# 1) Identify the term/maturity column\n",
    "term_col = \"Term to maturity (in years)\"\n",
    "\n",
    "# 2) Build a safe list of month columns (and ONLY those)\n",
    "month_rx = re.compile(r\"^(Jan\\.?|Feb\\.?|Mar\\.?|Apr\\.?|May|Jun\\.?|Jul\\.?|Aug\\.?|Sep\\.?|Oct\\.?|Nov\\.?|Dec\\.?)$\", re.I)\n",
    "month_cols = [c for c in sgl.columns if month_rx.match(str(c).strip())]\n",
    "\n",
    "print(\"Month columns detected:\", month_cols)"
   ]
  },
  {
   "cell_type": "markdown",
   "id": "28ed1e99",
   "metadata": {},
   "source": [
    "Add a “Fiscal Year” column and numeric maturity\n",
    "\n",
    "In this table, the FY labels (e.g., 2024-25, 2025-26) sit in the same column as maturities. We’ll detect those strings and forward-fill them so every row knows which FY it belongs to.\n",
    "\n",
    "now we can group by FY, and within each FY pick the row whose maturity is 10 years (or nearest, if 10 is missing)."
   ]
  },
  {
   "cell_type": "code",
   "execution_count": 9,
   "id": "f70f3b21",
   "metadata": {},
   "outputs": [
    {
     "name": "stdout",
     "output_type": "stream",
     "text": [
      "   Unnamed: 0 Term to maturity (in years)      Apr.       May      Jun.  \\\n",
      "0         NaN                           1         2         3         4   \n",
      "1         NaN                  2025-26          NaN       NaN       NaN   \n",
      "2         NaN                           1  6.030978   5.65304  5.551022   \n",
      "3         NaN                           2  6.032608    5.7133  5.736796   \n",
      "4         NaN                           3  6.052532  5.779252  5.917812   \n",
      "5         NaN                           4  6.099981  5.843335  6.025213   \n",
      "6         NaN                           5  6.121555   5.90033  6.129404   \n",
      "7         NaN                           6  6.151227  5.984793  6.232242   \n",
      "8         NaN                           7  6.292461  6.092648  6.321627   \n",
      "9         NaN                           8  6.351451  6.254522  6.409776   \n",
      "\n",
      "       Jul. Aug. Sep. Oct. Nov. Dec. Jan. Feb. Mar.          FY  term_years  \n",
      "0         5    6    7    8    9   10   11   12   13         NaN         1.0  \n",
      "1       NaN  NaN  NaN  NaN  NaN  NaN  NaN  NaN  NaN  2025-26            NaN  \n",
      "2  5.631113    -    -    -    -    -    -    -    -  2025-26            1.0  \n",
      "3  5.744028    -    -    -    -    -    -    -    -  2025-26            2.0  \n",
      "4  5.888192    -    -    -    -    -    -    -    -  2025-26            3.0  \n",
      "5  6.000877    -    -    -    -    -    -    -    -  2025-26            4.0  \n",
      "6  6.084029    -    -    -    -    -    -    -    -  2025-26            5.0  \n",
      "7  6.188104    -    -    -    -    -    -    -    -  2025-26            6.0  \n",
      "8  6.276501    -    -    -    -    -    -    -    -  2025-26            7.0  \n",
      "9  6.384063    -    -    -    -    -    -    -    -  2025-26            8.0  \n"
     ]
    }
   ],
   "source": [
    "# 3) Detect fiscal-year labels like \"2024-25\" in the same column and ffill\n",
    "fy_mask = sgl[term_col].astype(str).str.contains(r\"20\\d{2}\\s*-\\s*\\d{2}\", regex=True, na=False)\n",
    "sgl[\"FY\"] = np.where(fy_mask, sgl[term_col].astype(str), np.nan)\n",
    "sgl[\"FY\"] = sgl[\"FY\"].ffill()\n",
    "\n",
    "# 4) Coerce term to numeric (non-numeric rows will become NaN)\n",
    "sgl[\"term_years\"] = pd.to_numeric(sgl[term_col], errors=\"coerce\")\n",
    "print(sgl.head(10))\n"
   ]
  },
  {
   "cell_type": "markdown",
   "id": "814dc978",
   "metadata": {},
   "source": [
    "Big block titles like 2025–26, 2024–25\n",
    "\n",
    "These are fiscal years.\n",
    "\n",
    "Each block of rows under a year belongs to that year.\n",
    "\n",
    "For example:\n",
    "\n",
    "2025–26 starts with April 2025 and goes through March 2026.\n",
    "\n",
    "2024–25 starts with April 2024 and goes through March 2025.\n",
    "\n",
    "First column: Term to maturity (in years)\n",
    "\n",
    "This runs from 1 to 30.\n",
    "\n",
    "Row “1” = yield of a 1-year bond.\n",
    "\n",
    "Row “2” = yield of a 2-year bond.\n",
    "\n",
    "…\n",
    "\n",
    "Row “10” = yield of a 10-year bond.\n",
    "\n",
    "Row “30” = yield of a 30-year bond.\n",
    "\n",
    "These are the yields if you were to buy a government bond of that maturity at that time.\n",
    "\n",
    "Columns Apr. → Mar.\n",
    "\n",
    "Each column is the monthly yield for that maturity during the fiscal year.\n",
    "\n",
    "Example: in FY 2024–25, the 10-year yield in April 2024 was ~7.07%, in May 2024 ~7.01%, etc.\n",
    "\n",
    "🔹 Why we pick “10” every year\n",
    "\n",
    "In bond markets, the 10-year government bond yield is considered the benchmark for “long-term risk-free rate”.\n",
    "\n",
    "That’s why, from every fiscal year block, we pick the row where Term to maturity (in years) = 10.\n",
    "\n",
    "This gives us one series across years:"
   ]
  },
  {
   "cell_type": "markdown",
   "id": "9b12fb48",
   "metadata": {},
   "source": [
    "We want something like:\n",
    "\n",
    "Date       Yield_10y\n",
    "2024-04-30  6.12\n",
    "2024-05-31  6.20\n",
    "...\n",
    "2025-03-31  6.55\n",
    "\n",
    "So we need to melt the df"
   ]
  },
  {
   "cell_type": "code",
   "execution_count": 10,
   "id": "eb175e07",
   "metadata": {},
   "outputs": [
    {
     "data": {
      "text/plain": [
       "(        Date  Yield_10y          FY\n",
       " 0 2000-04-30    10.3663  2000-01   \n",
       " 1 2000-05-31    10.8186  2000-01   \n",
       " 2 2000-06-30    11.1004  2000-01   \n",
       " 3 2000-07-31    11.3000  2000-01   \n",
       " 4 2000-08-31    11.3715  2000-01   ,\n",
       "           Date  Yield_10y          FY\n",
       " 299 2025-03-31   6.614610  2024-25   \n",
       " 300 2025-04-30   6.402950  2025-26   \n",
       " 301 2025-05-31   6.220074  2025-26   \n",
       " 302 2025-06-30   6.368737  2025-26   \n",
       " 303 2025-07-31   6.423197  2025-26   ,\n",
       " (304, 3))"
      ]
     },
     "execution_count": 10,
     "metadata": {},
     "output_type": "execute_result"
    }
   ],
   "source": [
    "# Helper for fiscal → calendar year mapping\n",
    "month_to_num = {\"Apr.\":4,\"Apr\":4,\"May\":5,\"Jun.\":6,\"Jun\":6,\"Jul.\":7,\"Jul\":7,\"Aug.\":8,\"Aug\":8,\n",
    "                \"Sep.\":9,\"Sep\":9,\"Oct.\":10,\"Oct\":10,\"Nov.\":11,\"Nov\":11,\"Dec.\":12,\"Dec\":12,\n",
    "                \"Jan.\":1,\"Jan\":1,\"Feb.\":2,\"Feb\":2,\"Mar.\":3,\"Mar\":3}\n",
    "\n",
    "records = []\n",
    "\n",
    "for fy, block in sgl.groupby(\"FY\", dropna=True):\n",
    "    # skip blocks that have no numeric maturities\n",
    "    block_num = block.dropna(subset=[\"term_years\"])\n",
    "    if block_num.empty:\n",
    "        continue\n",
    "\n",
    "    # pick the row closest to 10 years (usually exactly 10 exists)\n",
    "    idx = (block_num[\"term_years\"] - 10).abs().idxmin()\n",
    "    row10 = block_num.loc[[idx], month_cols]  # keep only month columns\n",
    "\n",
    "    # melt months → values\n",
    "    long = row10.melt(value_vars=month_cols, var_name=\"Month\", value_name=\"Yield_10y\")\n",
    "    long[\"Yield_10y\"] = pd.to_numeric(long[\"Yield_10y\"], errors=\"coerce\")\n",
    "\n",
    "    # derive start calendar year from FY (e.g., \"2024-25\" → start_year=2024)\n",
    "    m = re.search(r\"(20\\d{2})\", fy)\n",
    "    if m:\n",
    "        start_year = int(m.group(1))\n",
    "    else:\n",
    "        # fallback: if FY couldn’t be parsed, skip\n",
    "        continue\n",
    "\n",
    "    # convert Month to month-end Date with Apr–Mar fiscal roll\n",
    "    cal_dates = []\n",
    "    for mname in long[\"Month\"].astype(str):\n",
    "        mnum = month_to_num.get(mname.strip(), None)\n",
    "        if mnum is None:\n",
    "            cal_dates.append(pd.NaT)\n",
    "            continue\n",
    "        year = start_year if mnum >= 4 else start_year + 1\n",
    "        cal_dates.append(pd.Timestamp(year=year, month=mnum, day=1) + pd.offsets.MonthEnd(0))\n",
    "\n",
    "    long[\"Date\"] = cal_dates\n",
    "    long[\"FY\"] = fy\n",
    "\n",
    "    # keep good rows\n",
    "    long = long.dropna(subset=[\"Date\", \"Yield_10y\"])\n",
    "    records.append(long[[\"Date\", \"Yield_10y\", \"FY\"]])\n",
    "\n",
    "# Combine all fiscal years\n",
    "yield_10y = pd.concat(records, ignore_index=True).sort_values(\"Date\").reset_index(drop=True)\n",
    "\n",
    "yield_10y.head(), yield_10y.tail(), yield_10y.shape\n"
   ]
  },
  {
   "cell_type": "code",
   "execution_count": 11,
   "id": "32d19a41",
   "metadata": {},
   "outputs": [],
   "source": [
    "yield_10y = yield_10y[[\"Date\",\"Yield_10y\"]]\n"
   ]
  },
  {
   "cell_type": "code",
   "execution_count": 12,
   "id": "ba0e5076",
   "metadata": {},
   "outputs": [
    {
     "data": {
      "text/html": [
       "<div>\n",
       "<style scoped>\n",
       "    .dataframe tbody tr th:only-of-type {\n",
       "        vertical-align: middle;\n",
       "    }\n",
       "\n",
       "    .dataframe tbody tr th {\n",
       "        vertical-align: top;\n",
       "    }\n",
       "\n",
       "    .dataframe thead th {\n",
       "        text-align: right;\n",
       "    }\n",
       "</style>\n",
       "<table border=\"1\" class=\"dataframe\">\n",
       "  <thead>\n",
       "    <tr style=\"text-align: right;\">\n",
       "      <th></th>\n",
       "      <th>Date</th>\n",
       "      <th>Yield_10y</th>\n",
       "    </tr>\n",
       "  </thead>\n",
       "  <tbody>\n",
       "    <tr>\n",
       "      <th>0</th>\n",
       "      <td>2000-04-30</td>\n",
       "      <td>10.3663</td>\n",
       "    </tr>\n",
       "    <tr>\n",
       "      <th>1</th>\n",
       "      <td>2000-05-01</td>\n",
       "      <td>10.3663</td>\n",
       "    </tr>\n",
       "    <tr>\n",
       "      <th>2</th>\n",
       "      <td>2000-05-02</td>\n",
       "      <td>10.3663</td>\n",
       "    </tr>\n",
       "    <tr>\n",
       "      <th>3</th>\n",
       "      <td>2000-05-03</td>\n",
       "      <td>10.3663</td>\n",
       "    </tr>\n",
       "    <tr>\n",
       "      <th>4</th>\n",
       "      <td>2000-05-04</td>\n",
       "      <td>10.3663</td>\n",
       "    </tr>\n",
       "  </tbody>\n",
       "</table>\n",
       "</div>"
      ],
      "text/plain": [
       "        Date  Yield_10y\n",
       "0 2000-04-30    10.3663\n",
       "1 2000-05-01    10.3663\n",
       "2 2000-05-02    10.3663\n",
       "3 2000-05-03    10.3663\n",
       "4 2000-05-04    10.3663"
      ]
     },
     "execution_count": 12,
     "metadata": {},
     "output_type": "execute_result"
    }
   ],
   "source": [
    "yield_10y_daily = (\n",
    "    yield_10y.set_index(\"Date\").asfreq(\"D\").ffill().reset_index()\n",
    ")\n",
    "yield_10y_daily.head()\n"
   ]
  },
  {
   "cell_type": "code",
   "execution_count": 13,
   "id": "a60a5342",
   "metadata": {},
   "outputs": [
    {
     "data": {
      "text/plain": [
       "(        Date  Yield_91d\n",
       " 0        NaT        NaN\n",
       " 1        NaT        NaN\n",
       " 2        NaT    13.0000\n",
       " 3        NaT        NaN\n",
       " 4 2025-08-20     5.4848,\n",
       "            Date  Yield_91d\n",
       " 1731 1993-01-22     9.6262\n",
       " 1732 1993-01-15     9.0816\n",
       " 1733 1993-01-08     8.9980\n",
       " 1734        NaT        NaN\n",
       " 1735        NaT        NaN,\n",
       " (1736, 2))"
      ]
     },
     "execution_count": 13,
     "metadata": {},
     "output_type": "execute_result"
    }
   ],
   "source": [
    "tb91.head(), tb91.tail(), tb91.shape\n",
    "\n"
   ]
  },
  {
   "cell_type": "code",
   "execution_count": 14,
   "id": "27b4ea10",
   "metadata": {},
   "outputs": [
    {
     "name": "stdout",
     "output_type": "stream",
     "text": [
      "***********\n"
     ]
    },
    {
     "data": {
      "text/plain": [
       "(        Date  Yield_364d\n",
       " 0        NaT         NaN\n",
       " 1        NaT         NaN\n",
       " 2        NaT     13.0000\n",
       " 3        NaT         NaN\n",
       " 4 2025-08-20      5.4848,\n",
       "            Date  Yield_364d\n",
       " 1731 1993-01-22      9.6262\n",
       " 1732 1993-01-15      9.0816\n",
       " 1733 1993-01-08      8.9980\n",
       " 1734        NaT         NaN\n",
       " 1735        NaT         NaN,\n",
       " (1736, 2))"
      ]
     },
     "execution_count": 14,
     "metadata": {},
     "output_type": "execute_result"
    }
   ],
   "source": [
    "print(\"***********\")\n",
    "tb364.head(), tb364.tail(), tb364.shape"
   ]
  },
  {
   "cell_type": "code",
   "execution_count": 15,
   "id": "4f5fce40",
   "metadata": {},
   "outputs": [
    {
     "name": "stdout",
     "output_type": "stream",
     "text": [
      "***********\n"
     ]
    },
    {
     "data": {
      "text/plain": [
       "(        Date  Yield_10y\n",
       " 0 2000-04-30    10.3663\n",
       " 1 2000-05-31    10.8186\n",
       " 2 2000-06-30    11.1004\n",
       " 3 2000-07-31    11.3000\n",
       " 4 2000-08-31    11.3715,\n",
       "           Date  Yield_10y\n",
       " 299 2025-03-31   6.614610\n",
       " 300 2025-04-30   6.402950\n",
       " 301 2025-05-31   6.220074\n",
       " 302 2025-06-30   6.368737\n",
       " 303 2025-07-31   6.423197,\n",
       " (304, 2))"
      ]
     },
     "execution_count": 15,
     "metadata": {},
     "output_type": "execute_result"
    }
   ],
   "source": [
    "print(\"***********\")\n",
    "yield_10y.head(), yield_10y.tail(), yield_10y.shape"
   ]
  },
  {
   "cell_type": "markdown",
   "id": "a772626d",
   "metadata": {},
   "source": [
    "Now we will make all 3 df foward filled and merge them .\n",
    "We will have something like this :\n",
    "\n",
    "Date | Yield_91d | Yield_364d | Yield_10y\n",
    "\n",
    "Before merging, we need to check for duplicate values and resolve them\n"
   ]
  },
  {
   "cell_type": "code",
   "execution_count": 16,
   "id": "b405fcc7",
   "metadata": {},
   "outputs": [
    {
     "name": "stdout",
     "output_type": "stream",
     "text": [
      "91d: 1736 rows, 33 duplicate-date rows\n"
     ]
    },
    {
     "data": {
      "text/html": [
       "<div>\n",
       "<style scoped>\n",
       "    .dataframe tbody tr th:only-of-type {\n",
       "        vertical-align: middle;\n",
       "    }\n",
       "\n",
       "    .dataframe tbody tr th {\n",
       "        vertical-align: top;\n",
       "    }\n",
       "\n",
       "    .dataframe thead th {\n",
       "        text-align: right;\n",
       "    }\n",
       "</style>\n",
       "<table border=\"1\" class=\"dataframe\">\n",
       "  <thead>\n",
       "    <tr style=\"text-align: right;\">\n",
       "      <th></th>\n",
       "      <th>Date</th>\n",
       "      <th>Yield_91d</th>\n",
       "    </tr>\n",
       "  </thead>\n",
       "  <tbody>\n",
       "    <tr>\n",
       "      <th>1136</th>\n",
       "      <td>2003-04-01</td>\n",
       "      <td>NaN</td>\n",
       "    </tr>\n",
       "    <tr>\n",
       "      <th>1189</th>\n",
       "      <td>2003-04-01</td>\n",
       "      <td>5.4739</td>\n",
       "    </tr>\n",
       "    <tr>\n",
       "      <th>1032</th>\n",
       "      <td>2005-06-01</td>\n",
       "      <td>NaN</td>\n",
       "    </tr>\n",
       "    <tr>\n",
       "      <th>1074</th>\n",
       "      <td>2005-06-01</td>\n",
       "      <td>5.2006</td>\n",
       "    </tr>\n",
       "    <tr>\n",
       "      <th>924</th>\n",
       "      <td>2007-08-01</td>\n",
       "      <td>NaN</td>\n",
       "    </tr>\n",
       "    <tr>\n",
       "      <th>959</th>\n",
       "      <td>2007-08-01</td>\n",
       "      <td>6.4805</td>\n",
       "    </tr>\n",
       "    <tr>\n",
       "      <th>0</th>\n",
       "      <td>NaT</td>\n",
       "      <td>NaN</td>\n",
       "    </tr>\n",
       "    <tr>\n",
       "      <th>1</th>\n",
       "      <td>NaT</td>\n",
       "      <td>NaN</td>\n",
       "    </tr>\n",
       "  </tbody>\n",
       "</table>\n",
       "</div>"
      ],
      "text/plain": [
       "           Date  Yield_91d\n",
       "1136 2003-04-01        NaN\n",
       "1189 2003-04-01     5.4739\n",
       "1032 2005-06-01        NaN\n",
       "1074 2005-06-01     5.2006\n",
       "924  2007-08-01        NaN\n",
       "959  2007-08-01     6.4805\n",
       "0           NaT        NaN\n",
       "1           NaT        NaN"
      ]
     },
     "metadata": {},
     "output_type": "display_data"
    },
    {
     "name": "stdout",
     "output_type": "stream",
     "text": [
      "364d: 1736 rows, 33 duplicate-date rows\n"
     ]
    },
    {
     "data": {
      "text/html": [
       "<div>\n",
       "<style scoped>\n",
       "    .dataframe tbody tr th:only-of-type {\n",
       "        vertical-align: middle;\n",
       "    }\n",
       "\n",
       "    .dataframe tbody tr th {\n",
       "        vertical-align: top;\n",
       "    }\n",
       "\n",
       "    .dataframe thead th {\n",
       "        text-align: right;\n",
       "    }\n",
       "</style>\n",
       "<table border=\"1\" class=\"dataframe\">\n",
       "  <thead>\n",
       "    <tr style=\"text-align: right;\">\n",
       "      <th></th>\n",
       "      <th>Date</th>\n",
       "      <th>Yield_364d</th>\n",
       "    </tr>\n",
       "  </thead>\n",
       "  <tbody>\n",
       "    <tr>\n",
       "      <th>1136</th>\n",
       "      <td>2003-04-01</td>\n",
       "      <td>NaN</td>\n",
       "    </tr>\n",
       "    <tr>\n",
       "      <th>1189</th>\n",
       "      <td>2003-04-01</td>\n",
       "      <td>5.4739</td>\n",
       "    </tr>\n",
       "    <tr>\n",
       "      <th>1032</th>\n",
       "      <td>2005-06-01</td>\n",
       "      <td>NaN</td>\n",
       "    </tr>\n",
       "    <tr>\n",
       "      <th>1074</th>\n",
       "      <td>2005-06-01</td>\n",
       "      <td>5.2006</td>\n",
       "    </tr>\n",
       "    <tr>\n",
       "      <th>924</th>\n",
       "      <td>2007-08-01</td>\n",
       "      <td>NaN</td>\n",
       "    </tr>\n",
       "    <tr>\n",
       "      <th>959</th>\n",
       "      <td>2007-08-01</td>\n",
       "      <td>6.4805</td>\n",
       "    </tr>\n",
       "    <tr>\n",
       "      <th>0</th>\n",
       "      <td>NaT</td>\n",
       "      <td>NaN</td>\n",
       "    </tr>\n",
       "    <tr>\n",
       "      <th>1</th>\n",
       "      <td>NaT</td>\n",
       "      <td>NaN</td>\n",
       "    </tr>\n",
       "  </tbody>\n",
       "</table>\n",
       "</div>"
      ],
      "text/plain": [
       "           Date  Yield_364d\n",
       "1136 2003-04-01         NaN\n",
       "1189 2003-04-01      5.4739\n",
       "1032 2005-06-01         NaN\n",
       "1074 2005-06-01      5.2006\n",
       "924  2007-08-01         NaN\n",
       "959  2007-08-01      6.4805\n",
       "0           NaT         NaN\n",
       "1           NaT         NaN"
      ]
     },
     "metadata": {},
     "output_type": "display_data"
    },
    {
     "name": "stdout",
     "output_type": "stream",
     "text": [
      "10y: 304 rows, 0 duplicate-date rows\n"
     ]
    }
   ],
   "source": [
    "# confirming duplicate values\n",
    "\n",
    "def dup_report(df, value_col, name):\n",
    "    s = df[\"Date\"]\n",
    "    dups = s[s.duplicated(keep=False)]\n",
    "    print(f\"{name}: {len(df)} rows, {dups.shape[0]} duplicate-date rows\")\n",
    "    if not dups.empty:\n",
    "        display(df.loc[dups.index].sort_values(\"Date\").head(8))\n",
    "\n",
    "dup_report(tb91,  \"Yield_91d\",  \"91d\")\n",
    "dup_report(tb364, \"Yield_364d\", \"364d\")\n",
    "dup_report(yield_10y.rename(columns={\"Yield_10y\":\"val\"}), \"val\", \"10y\")  # 10y likely has no dups\n"
   ]
  },
  {
   "cell_type": "markdown",
   "id": "3ee3b12a",
   "metadata": {},
   "source": [
    "dedupe by Date before resampling\n",
    "\n",
    "We need a rule for “which value to keep” when dates repeat. For auction yields, last observation of that date is a simple and defensible choice (you could also take the mean; it won’t matter much here)"
   ]
  },
  {
   "cell_type": "code",
   "execution_count": 17,
   "id": "3d13c0b7",
   "metadata": {},
   "outputs": [],
   "source": [
    "def to_daily_ffill(df, value_col):\n",
    "    d = df[[\"Date\", value_col]].dropna().copy()\n",
    "    d[\"Date\"] = pd.to_datetime(d[\"Date\"], errors=\"coerce\")\n",
    "    d = d.dropna(subset=[\"Date\"]).sort_values(\"Date\")\n",
    "\n",
    "    # collapse duplicates: keep the last value for each date\n",
    "    d = d.groupby(\"Date\", as_index=True)[value_col].last().to_frame()\n",
    "\n",
    "    # now safe to resample\n",
    "    d = d.asfreq(\"D\").ffill()\n",
    "    return d\n"
   ]
  },
  {
   "cell_type": "code",
   "execution_count": 18,
   "id": "dc583d24",
   "metadata": {},
   "outputs": [],
   "source": [
    "# recheck\n",
    "\n",
    "d91  = to_daily_ffill(tb91,  \"Yield_91d\")\n",
    "d364 = to_daily_ffill(tb364, \"Yield_364d\")\n",
    "d10m = yield_10y.set_index(\"Date\").sort_index().asfreq(\"D\").ffill()  # monthly → daily\n",
    "d10m = d10m.rename(columns={\"Yield_10y\":\"Yield_10y\"})\n"
   ]
  },
  {
   "cell_type": "code",
   "execution_count": 19,
   "id": "4651b6f5",
   "metadata": {},
   "outputs": [
    {
     "data": {
      "text/plain": [
       "(        Date  Yield_91d  Yield_364d  Yield_10y\n",
       " 0 2000-04-30     7.9135      7.9135    10.3663\n",
       " 1 2000-05-01     7.9135      7.9135    10.3663\n",
       " 2 2000-05-02     7.9135      7.9135    10.3663\n",
       " 3 2000-05-03     7.9135      7.9135    10.3663\n",
       " 4 2000-05-04     7.9135      7.9135    10.3663,\n",
       "            Date  Yield_91d  Yield_364d  Yield_10y\n",
       " 9219 2025-07-27     5.3872      5.3872   6.368737\n",
       " 9220 2025-07-28     5.3872      5.3872   6.368737\n",
       " 9221 2025-07-29     5.3872      5.3872   6.368737\n",
       " 9222 2025-07-30     5.3970      5.3970   6.368737\n",
       " 9223 2025-07-31     5.3970      5.3970   6.423197,\n",
       " (9224, 4))"
      ]
     },
     "execution_count": 19,
     "metadata": {},
     "output_type": "execute_result"
    }
   ],
   "source": [
    "\n",
    "\n",
    "\n",
    "# choose a common overlapping window so everything is defined\n",
    "start = max(d91.index.min(), d364.index.min(), d10m.index.min())\n",
    "end   = min(d91.index.max(), d364.index.max(), d10m.index.max())\n",
    "idx   = pd.date_range(start, end, freq=\"D\")\n",
    "\n",
    "yields = pd.concat([\n",
    "    d91.reindex(idx), d364.reindex(idx), d10m.reindex(idx)\n",
    "], axis=1).dropna().reset_index().rename(columns={\"index\":\"Date\"})\n",
    "\n",
    "yields.head(), yields.tail(), yields.shape\n"
   ]
  },
  {
   "cell_type": "code",
   "execution_count": 20,
   "id": "948513eb",
   "metadata": {},
   "outputs": [
    {
     "name": "stdout",
     "output_type": "stream",
     "text": [
      "         Yield_91d   Yield_364d    Yield_10y\n",
      "count  9224.000000  9224.000000  9224.000000\n",
      "mean      6.371156     6.371156     7.499776\n",
      "std       1.670550     1.670550     1.141170\n",
      "min       2.929200     2.929200     5.105200\n",
      "25%       5.241800     5.241800     6.819200\n",
      "50%       6.490000     6.490000     7.440170\n",
      "75%       7.435300     7.435300     8.022300\n",
      "max      12.021800    12.021800    11.805100\n"
     ]
    }
   ],
   "source": [
    "# sanity checks after merge\n",
    "\n",
    "assert yields[\"Date\"].is_monotonic_increasing\n",
    "assert yields[[\"Yield_91d\",\"Yield_364d\",\"Yield_10y\"]].notna().all().all()\n",
    "print(yields.describe())\n"
   ]
  },
  {
   "cell_type": "code",
   "execution_count": 21,
   "id": "4ce07934",
   "metadata": {},
   "outputs": [
    {
     "data": {
      "text/html": [
       "<div>\n",
       "<style scoped>\n",
       "    .dataframe tbody tr th:only-of-type {\n",
       "        vertical-align: middle;\n",
       "    }\n",
       "\n",
       "    .dataframe tbody tr th {\n",
       "        vertical-align: top;\n",
       "    }\n",
       "\n",
       "    .dataframe thead th {\n",
       "        text-align: right;\n",
       "    }\n",
       "</style>\n",
       "<table border=\"1\" class=\"dataframe\">\n",
       "  <thead>\n",
       "    <tr style=\"text-align: right;\">\n",
       "      <th></th>\n",
       "      <th>Date</th>\n",
       "      <th>Yield_91d</th>\n",
       "      <th>Yield_364d</th>\n",
       "      <th>Yield_10y</th>\n",
       "      <th>slope_10y_3m</th>\n",
       "      <th>dslope</th>\n",
       "    </tr>\n",
       "  </thead>\n",
       "  <tbody>\n",
       "    <tr>\n",
       "      <th>0</th>\n",
       "      <td>2000-04-30</td>\n",
       "      <td>7.9135</td>\n",
       "      <td>7.9135</td>\n",
       "      <td>10.3663</td>\n",
       "      <td>2.4528</td>\n",
       "      <td>NaN</td>\n",
       "    </tr>\n",
       "    <tr>\n",
       "      <th>1</th>\n",
       "      <td>2000-05-01</td>\n",
       "      <td>7.9135</td>\n",
       "      <td>7.9135</td>\n",
       "      <td>10.3663</td>\n",
       "      <td>2.4528</td>\n",
       "      <td>0.0</td>\n",
       "    </tr>\n",
       "    <tr>\n",
       "      <th>2</th>\n",
       "      <td>2000-05-02</td>\n",
       "      <td>7.9135</td>\n",
       "      <td>7.9135</td>\n",
       "      <td>10.3663</td>\n",
       "      <td>2.4528</td>\n",
       "      <td>0.0</td>\n",
       "    </tr>\n",
       "    <tr>\n",
       "      <th>3</th>\n",
       "      <td>2000-05-03</td>\n",
       "      <td>7.9135</td>\n",
       "      <td>7.9135</td>\n",
       "      <td>10.3663</td>\n",
       "      <td>2.4528</td>\n",
       "      <td>0.0</td>\n",
       "    </tr>\n",
       "    <tr>\n",
       "      <th>4</th>\n",
       "      <td>2000-05-04</td>\n",
       "      <td>7.9135</td>\n",
       "      <td>7.9135</td>\n",
       "      <td>10.3663</td>\n",
       "      <td>2.4528</td>\n",
       "      <td>0.0</td>\n",
       "    </tr>\n",
       "  </tbody>\n",
       "</table>\n",
       "</div>"
      ],
      "text/plain": [
       "        Date  Yield_91d  Yield_364d  Yield_10y  slope_10y_3m  dslope\n",
       "0 2000-04-30     7.9135      7.9135    10.3663        2.4528     NaN\n",
       "1 2000-05-01     7.9135      7.9135    10.3663        2.4528     0.0\n",
       "2 2000-05-02     7.9135      7.9135    10.3663        2.4528     0.0\n",
       "3 2000-05-03     7.9135      7.9135    10.3663        2.4528     0.0\n",
       "4 2000-05-04     7.9135      7.9135    10.3663        2.4528     0.0"
      ]
     },
     "execution_count": 21,
     "metadata": {},
     "output_type": "execute_result"
    }
   ],
   "source": [
    "# some optional features\n",
    "\n",
    "yields[\"slope_10y_3m\"] = yields[\"Yield_10y\"] - yields[\"Yield_91d\"]\n",
    "yields[\"dslope\"] = yields[\"slope_10y_3m\"].diff()\n",
    "yields.head()\n"
   ]
  },
  {
   "cell_type": "code",
   "execution_count": 22,
   "id": "85eef005",
   "metadata": {},
   "outputs": [
    {
     "name": "stdout",
     "output_type": "stream",
     "text": [
      "Wrote: data/yields_daily_91d_364d_10y.csv (9224, 6)\n"
     ]
    }
   ],
   "source": [
    "# after you build `yields` with the three daily series:\n",
    "path_csv = \"data/yields_daily_91d_364d_10y.csv\"\n",
    "yields[[\"Date\",\"Yield_91d\",\"Yield_364d\",\"Yield_10y\"]].to_csv(path_csv, index=False)\n",
    "print(\"Wrote:\", path_csv, yields.shape)\n"
   ]
  },
  {
   "cell_type": "markdown",
   "id": "b16207e2",
   "metadata": {},
   "source": [
    "We shall define a reward per arm\n",
    "\n",
    "We’ll use the simple proxy we discussed:\n",
    "\n",
    "gross daily return ≈ yield / 365\n",
    "\n",
    "duration penalty (to reflect mark-to-market risk):\n",
    "\n",
    "91d: 0\n",
    "\n",
    "364d: 0.25 × |Δ(364d yield)|\n",
    "\n",
    "10y : 0.50 × |Δ(10y yield)|\n",
    "\n",
    "these penalties are heuristic — enough for the start probably. we would/could try to tweak later if needed."
   ]
  },
  {
   "cell_type": "code",
   "execution_count": 23,
   "id": "3041c21f",
   "metadata": {},
   "outputs": [
    {
     "data": {
      "text/html": [
       "<div>\n",
       "<style scoped>\n",
       "    .dataframe tbody tr th:only-of-type {\n",
       "        vertical-align: middle;\n",
       "    }\n",
       "\n",
       "    .dataframe tbody tr th {\n",
       "        vertical-align: top;\n",
       "    }\n",
       "\n",
       "    .dataframe thead th {\n",
       "        text-align: right;\n",
       "    }\n",
       "</style>\n",
       "<table border=\"1\" class=\"dataframe\">\n",
       "  <thead>\n",
       "    <tr style=\"text-align: right;\">\n",
       "      <th></th>\n",
       "      <th>Date</th>\n",
       "      <th>r_91d</th>\n",
       "      <th>r_364d</th>\n",
       "      <th>r_10y</th>\n",
       "    </tr>\n",
       "  </thead>\n",
       "  <tbody>\n",
       "    <tr>\n",
       "      <th>0</th>\n",
       "      <td>2000-04-30</td>\n",
       "      <td>NaN</td>\n",
       "      <td>NaN</td>\n",
       "      <td>NaN</td>\n",
       "    </tr>\n",
       "    <tr>\n",
       "      <th>1</th>\n",
       "      <td>2000-05-01</td>\n",
       "      <td>0.021681</td>\n",
       "      <td>0.021681</td>\n",
       "      <td>0.028401</td>\n",
       "    </tr>\n",
       "    <tr>\n",
       "      <th>2</th>\n",
       "      <td>2000-05-02</td>\n",
       "      <td>0.021681</td>\n",
       "      <td>0.021681</td>\n",
       "      <td>0.028401</td>\n",
       "    </tr>\n",
       "    <tr>\n",
       "      <th>3</th>\n",
       "      <td>2000-05-03</td>\n",
       "      <td>0.021681</td>\n",
       "      <td>0.021681</td>\n",
       "      <td>0.028401</td>\n",
       "    </tr>\n",
       "    <tr>\n",
       "      <th>4</th>\n",
       "      <td>2000-05-04</td>\n",
       "      <td>0.021681</td>\n",
       "      <td>0.021681</td>\n",
       "      <td>0.028401</td>\n",
       "    </tr>\n",
       "  </tbody>\n",
       "</table>\n",
       "</div>"
      ],
      "text/plain": [
       "        Date     r_91d    r_364d     r_10y\n",
       "0 2000-04-30       NaN       NaN       NaN\n",
       "1 2000-05-01  0.021681  0.021681  0.028401\n",
       "2 2000-05-02  0.021681  0.021681  0.028401\n",
       "3 2000-05-03  0.021681  0.021681  0.028401\n",
       "4 2000-05-04  0.021681  0.021681  0.028401"
      ]
     },
     "execution_count": 23,
     "metadata": {},
     "output_type": "execute_result"
    }
   ],
   "source": [
    "for col in [\"Yield_91d\",\"Yield_364d\",\"Yield_10y\"]:\n",
    "    yields[f\"d_{col}\"] = yields[col].diff()\n",
    "\n",
    "def reward_series(yield_col, dcol, penalty_k):\n",
    "    gross = yields[yield_col] / 365.0\n",
    "    pen = penalty_k * yields[dcol].abs()\n",
    "    return gross - pen\n",
    "\n",
    "yields[\"r_91d\"]  = reward_series(\"Yield_91d\",\"d_Yield_91d\", penalty_k=0.00)\n",
    "yields[\"r_364d\"] = reward_series(\"Yield_364d\",\"d_Yield_364d\", penalty_k=0.25)\n",
    "yields[\"r_10y\"]  = reward_series(\"Yield_10y\",\"d_Yield_10y\",   penalty_k=0.50)\n",
    "\n",
    "yields[[\"Date\",\"r_91d\",\"r_364d\",\"r_10y\"]].head()\n"
   ]
  },
  {
   "cell_type": "markdown",
   "id": "76d0b06a",
   "metadata": {},
   "source": [
    "Defining some baselines so we have something to compare with"
   ]
  },
  {
   "cell_type": "code",
   "execution_count": 24,
   "id": "a66c306b",
   "metadata": {},
   "outputs": [
    {
     "data": {
      "text/html": [
       "<div>\n",
       "<style scoped>\n",
       "    .dataframe tbody tr th:only-of-type {\n",
       "        vertical-align: middle;\n",
       "    }\n",
       "\n",
       "    .dataframe tbody tr th {\n",
       "        vertical-align: top;\n",
       "    }\n",
       "\n",
       "    .dataframe thead th {\n",
       "        text-align: right;\n",
       "    }\n",
       "</style>\n",
       "<table border=\"1\" class=\"dataframe\">\n",
       "  <thead>\n",
       "    <tr style=\"text-align: right;\">\n",
       "      <th></th>\n",
       "      <th>Date</th>\n",
       "      <th>Always_91d</th>\n",
       "      <th>Always_364d</th>\n",
       "      <th>Always_10y</th>\n",
       "      <th>Pick_Highest_Yield</th>\n",
       "    </tr>\n",
       "  </thead>\n",
       "  <tbody>\n",
       "    <tr>\n",
       "      <th>9219</th>\n",
       "      <td>2025-07-27</td>\n",
       "      <td>1.761371e+69</td>\n",
       "      <td>1.368651e+55</td>\n",
       "      <td>3.059968e+66</td>\n",
       "      <td>0                 NaN\n",
       "1       9.721180e+108\n",
       "2 ...</td>\n",
       "    </tr>\n",
       "    <tr>\n",
       "      <th>9220</th>\n",
       "      <td>2025-07-28</td>\n",
       "      <td>1.787367e+69</td>\n",
       "      <td>1.388851e+55</td>\n",
       "      <td>3.113360e+66</td>\n",
       "      <td>0                 NaN\n",
       "1       9.997269e+108\n",
       "2 ...</td>\n",
       "    </tr>\n",
       "    <tr>\n",
       "      <th>9221</th>\n",
       "      <td>2025-07-29</td>\n",
       "      <td>1.813748e+69</td>\n",
       "      <td>1.409350e+55</td>\n",
       "      <td>3.167683e+66</td>\n",
       "      <td>0                 NaN\n",
       "1       1.028120e+109\n",
       "2 ...</td>\n",
       "    </tr>\n",
       "    <tr>\n",
       "      <th>9222</th>\n",
       "      <td>2025-07-30</td>\n",
       "      <td>1.840567e+69</td>\n",
       "      <td>1.426736e+55</td>\n",
       "      <td>3.222955e+66</td>\n",
       "      <td>0                 NaN\n",
       "1       1.057319e+109\n",
       "2 ...</td>\n",
       "    </tr>\n",
       "    <tr>\n",
       "      <th>9223</th>\n",
       "      <td>2025-07-31</td>\n",
       "      <td>1.867782e+69</td>\n",
       "      <td>1.447832e+55</td>\n",
       "      <td>3.191911e+66</td>\n",
       "      <td>0                 NaN\n",
       "1       1.080243e+109\n",
       "2 ...</td>\n",
       "    </tr>\n",
       "  </tbody>\n",
       "</table>\n",
       "</div>"
      ],
      "text/plain": [
       "           Date    Always_91d   Always_364d    Always_10y  \\\n",
       "9219 2025-07-27  1.761371e+69  1.368651e+55  3.059968e+66   \n",
       "9220 2025-07-28  1.787367e+69  1.388851e+55  3.113360e+66   \n",
       "9221 2025-07-29  1.813748e+69  1.409350e+55  3.167683e+66   \n",
       "9222 2025-07-30  1.840567e+69  1.426736e+55  3.222955e+66   \n",
       "9223 2025-07-31  1.867782e+69  1.447832e+55  3.191911e+66   \n",
       "\n",
       "                                     Pick_Highest_Yield  \n",
       "9219  0                 NaN\n",
       "1       9.721180e+108\n",
       "2 ...  \n",
       "9220  0                 NaN\n",
       "1       9.997269e+108\n",
       "2 ...  \n",
       "9221  0                 NaN\n",
       "1       1.028120e+109\n",
       "2 ...  \n",
       "9222  0                 NaN\n",
       "1       1.057319e+109\n",
       "2 ...  \n",
       "9223  0                 NaN\n",
       "1       1.080243e+109\n",
       "2 ...  "
      ]
     },
     "execution_count": 24,
     "metadata": {},
     "output_type": "execute_result"
    }
   ],
   "source": [
    "def equity_curve(r):\n",
    "    eq = (1 + r.fillna(0)).cumprod()\n",
    "    return eq\n",
    "\n",
    "# --- Recompute rewards first (see unit fix below), then:\n",
    "rowmax_reward = yields[[\"r_91d\",\"r_364d\",\"r_10y\"]].max(axis=1)\n",
    "\n",
    "baselines = pd.DataFrame({\n",
    "    \"Date\": yields[\"Date\"],\n",
    "    \"Always_91d\": equity_curve(yields[\"r_91d\"]),\n",
    "    \"Always_364d\": equity_curve(yields[\"r_364d\"]),\n",
    "    \"Always_10y\": equity_curve(yields[\"r_10y\"]),\n",
    "    \"Pick_Highest_Yield\": equity_curve(\n",
    "        yields[[\"r_91d\",\"r_364d\",\"r_10y\"]].idxmax(axis=1).map({\n",
    "            \"r_91d\": yields[\"r_91d\"],\n",
    "            \"r_364d\": yields[\"r_364d\"],\n",
    "            \"r_10y\": yields[\"r_10y\"]\n",
    "        }).reset_index(drop=True)  # simple but ok for the beginning\n",
    "    )\n",
    "})\n",
    "\n",
    "baselines.tail()\n"
   ]
  },
  {
   "cell_type": "code",
   "execution_count": 25,
   "id": "ec111c6b",
   "metadata": {},
   "outputs": [],
   "source": [
    "# Fix the units\n",
    "\n",
    "# Convert percent → decimal before turning annual into daily:\n",
    "\n",
    "# recompute deltas if needed\n",
    "for col in [\"Yield_91d\",\"Yield_364d\",\"Yield_10y\"]:\n",
    "    yields[f\"d_{col}\"] = yields[col].diff()\n",
    "\n",
    "def reward_series(yield_col, dcol, penalty_k):\n",
    "    annual_decimal = yields[yield_col] / 100.0        # 7.2% -> 0.072\n",
    "    gross_daily    = annual_decimal / 365.0           # daily rate\n",
    "    pen            = penalty_k * yields[dcol].abs() / 100.0  # delta is in pct pts; scale to decimal too\n",
    "    return gross_daily - pen\n",
    "\n",
    "yields[\"r_91d\"]  = reward_series(\"Yield_91d\",\"d_Yield_91d\", penalty_k=0.00)\n",
    "yields[\"r_364d\"] = reward_series(\"Yield_364d\",\"d_Yield_364d\", penalty_k=0.25)\n",
    "yields[\"r_10y\"]  = reward_series(\"Yield_10y\",\"d_Yield_10y\",   penalty_k=0.50)\n"
   ]
  },
  {
   "cell_type": "code",
   "execution_count": 26,
   "id": "d5302671",
   "metadata": {},
   "outputs": [
    {
     "data": {
      "image/png": "[encoded data removed]",
      "text/plain": [
       "<Figure size 648x288 with 1 Axes>"
      ]
     },
     "metadata": {
      "needs_background": "light"
     },
     "output_type": "display_data"
    }
   ],
   "source": [
    "import matplotlib.pyplot as plt\n",
    "\n",
    "baselines = pd.DataFrame({\n",
    "    \"Date\": yields[\"Date\"],\n",
    "    \"Always_91d\": equity_curve(yields[\"r_91d\"]),\n",
    "    \"Always_364d\": equity_curve(yields[\"r_364d\"]),\n",
    "    \"Always_10y\": equity_curve(yields[\"r_10y\"]),\n",
    "    \"Pick_Highest_Yield\": equity_curve(yields[[\"r_91d\",\"r_364d\",\"r_10y\"]].max(axis=1)),\n",
    "})\n",
    "\n",
    "plt.figure(figsize=(9,4))\n",
    "for col in [\"Always_91d\",\"Always_364d\",\"Always_10y\",\"Pick_Highest_Yield\"]:\n",
    "    plt.plot(baselines[\"Date\"], baselines[col], label=col)\n",
    "plt.legend(); plt.title(\"Baseline equity curves\"); plt.xlabel(\"Date\"); plt.ylabel(\"Wealth (₹=1 start)\")\n",
    "plt.show()\n"
   ]
  },
  {
   "cell_type": "markdown",
   "id": "c71ad5ba",
   "metadata": {},
   "source": [
    "we will proceed with the project with a small, clear bandit. we’ll start with ε-greedy (context-free), then we might move to a plug-in cell for a contextual LinUCB if we could extend this"
   ]
  },
  {
   "cell_type": "markdown",
   "id": "ea17c860",
   "metadata": {},
   "source": [
    "setting up arms and rewards\n",
    "\n",
    "We already have daily reward series per arm (r_91d, r_364d, r_10y).\n",
    " We’ll stack them into a matrix so the bandit can “look up” today’s reward after it chooses.\n",
    "\n",
    "Reason for our approach : bandit decides an arm at day t with no look-ahead; then we credit it with that day’s realized reward."
   ]
  },
  {
   "cell_type": "code",
   "execution_count": 27,
   "id": "0e914f0a",
   "metadata": {},
   "outputs": [],
   "source": [
    "import numpy as np\n",
    "import pandas as pd\n",
    "\n",
    "# assume `yields` has: Date, r_91d, r_364d, r_10y (already fixed to decimals/day)\n",
    "R = yields[[\"r_91d\",\"r_364d\",\"r_10y\"]].to_numpy()   # shape: [T, 3]\n",
    "T, K = R.shape\n",
    "arms = [\"91d\",\"364d\",\"10y\"]\n"
   ]
  },
  {
   "cell_type": "markdown",
   "id": "61257ef8",
   "metadata": {},
   "source": [
    "Our paradigm : ε-greedy (with tiny switching cost)\n",
    "\n",
    "Idea: with probability ε explore (random arm); \n",
    "or exploit (pick arm with highest running average reward).\n",
    "We also subtract a tiny switching cost when the arm changes (e.g., 1 basis point = 0.0001) to avoid unrealistic over-trading."
   ]
  },
  {
   "cell_type": "code",
   "execution_count": 28,
   "id": "8a721697",
   "metadata": {},
   "outputs": [],
   "source": [
    "def epsilon_greedy(R, eps=0.05, switch_cost=0.0001, seed=42):\n",
    "    rng = np.random.default_rng(seed)\n",
    "    T, K = R.shape\n",
    "    counts = np.zeros(K, dtype=int)\n",
    "    values = np.zeros(K, dtype=float)  # running mean estimate\n",
    "    picks  = np.zeros(T, dtype=int)\n",
    "    rew    = np.zeros(T, dtype=float)\n",
    "\n",
    "    # start with uniform exploration for first K steps\n",
    "    for t in range(T):\n",
    "        if t < K:\n",
    "            a = t\n",
    "        else:\n",
    "            if rng.random() < eps:\n",
    "                a = rng.integers(K)     # explore\n",
    "            else:\n",
    "                a = int(np.argmax(values))  # exploit\n",
    "\n",
    "        # realized reward at t (apply switching cost if we changed arms)\n",
    "        r_t = R[t, a]\n",
    "        if t > 0 and a != picks[t-1]:\n",
    "            r_t -= switch_cost\n",
    "\n",
    "        # update estimates\n",
    "        counts[a] += 1\n",
    "        # incremental mean update\n",
    "        values[a] += (r_t - values[a]) / counts[a]\n",
    "\n",
    "        picks[t] = a\n",
    "        rew[t]   = r_t\n",
    "\n",
    "    return picks, rew, values, counts\n",
    "\n",
    "picks, rew, values, counts = epsilon_greedy(R, eps=0.05, switch_cost=0.0001, seed=0)\n"
   ]
  },
  {
   "cell_type": "markdown",
   "id": "f2536857",
   "metadata": {},
   "source": [
    "We shall now turn rewards into an equity curve and report stats"
   ]
  },
  {
   "cell_type": "code",
   "execution_count": 29,
   "id": "00306895",
   "metadata": {},
   "outputs": [
    {
     "data": {
      "text/html": [
       "<div>\n",
       "<style scoped>\n",
       "    .dataframe tbody tr th:only-of-type {\n",
       "        vertical-align: middle;\n",
       "    }\n",
       "\n",
       "    .dataframe tbody tr th {\n",
       "        vertical-align: top;\n",
       "    }\n",
       "\n",
       "    .dataframe thead th {\n",
       "        text-align: right;\n",
       "    }\n",
       "</style>\n",
       "<table border=\"1\" class=\"dataframe\">\n",
       "  <thead>\n",
       "    <tr style=\"text-align: right;\">\n",
       "      <th></th>\n",
       "      <th>AnnRet</th>\n",
       "      <th>AnnVol</th>\n",
       "      <th>Sharpe</th>\n",
       "    </tr>\n",
       "  </thead>\n",
       "  <tbody>\n",
       "    <tr>\n",
       "      <th>Always_91d</th>\n",
       "      <td>0.043986</td>\n",
       "      <td>0.000727</td>\n",
       "      <td>60.543535</td>\n",
       "    </tr>\n",
       "    <tr>\n",
       "      <th>Always_364d</th>\n",
       "      <td>0.035637</td>\n",
       "      <td>0.003003</td>\n",
       "      <td>11.866717</td>\n",
       "    </tr>\n",
       "    <tr>\n",
       "      <th>Always_10y</th>\n",
       "      <td>0.043456</td>\n",
       "      <td>0.004111</td>\n",
       "      <td>10.571598</td>\n",
       "    </tr>\n",
       "    <tr>\n",
       "      <th>EpsGreedy</th>\n",
       "      <td>0.042340</td>\n",
       "      <td>0.000845</td>\n",
       "      <td>50.079091</td>\n",
       "    </tr>\n",
       "  </tbody>\n",
       "</table>\n",
       "</div>"
      ],
      "text/plain": [
       "               AnnRet    AnnVol     Sharpe\n",
       "Always_91d   0.043986  0.000727  60.543535\n",
       "Always_364d  0.035637  0.003003  11.866717\n",
       "Always_10y   0.043456  0.004111  10.571598\n",
       "EpsGreedy    0.042340  0.000845  50.079091"
      ]
     },
     "execution_count": 29,
     "metadata": {},
     "output_type": "execute_result"
    }
   ],
   "source": [
    "def equity_curve_from_rewards(r):\n",
    "    return (1 + pd.Series(r).fillna(0)).cumprod()\n",
    "\n",
    "eg_eq = equity_curve_from_rewards(rew)\n",
    "eg_df = pd.DataFrame({\n",
    "    \"Date\": yields[\"Date\"],\n",
    "    \"EG_wealth\": eg_eq,\n",
    "    \"EG_arm\": [arms[i] for i in picks],\n",
    "})\n",
    "\n",
    "def perf_stats(r, label):\n",
    "    mean = np.nanmean(r)\n",
    "    std  = np.nanstd(r)\n",
    "    ann_ret = mean * 252\n",
    "    ann_vol = std * np.sqrt(252)\n",
    "    sharpe  = ann_ret / ann_vol if ann_vol > 0 else np.nan\n",
    "    return pd.Series({\"AnnRet\":ann_ret, \"AnnVol\":ann_vol, \"Sharpe\":sharpe}, name=label)\n",
    "\n",
    "stats = pd.concat([\n",
    "    perf_stats(yields[\"r_91d\"].to_numpy(),  \"Always_91d\"),\n",
    "    perf_stats(yields[\"r_364d\"].to_numpy(), \"Always_364d\"),\n",
    "    perf_stats(yields[\"r_10y\"].to_numpy(),  \"Always_10y\"),\n",
    "    perf_stats(rew,                          \"EpsGreedy\"),\n",
    "], axis=1).T\n",
    "\n",
    "stats\n"
   ]
  },
  {
   "cell_type": "code",
   "execution_count": 30,
   "id": "77ec5bbf",
   "metadata": {},
   "outputs": [
    {
     "data": {
      "image/png": "[encoded data removed]",
      "text/plain": [
       "<Figure size 648x288 with 1 Axes>"
      ]
     },
     "metadata": {
      "needs_background": "light"
     },
     "output_type": "display_data"
    }
   ],
   "source": [
    "import matplotlib.pyplot as plt\n",
    "\n",
    "base_curves = pd.DataFrame({\n",
    "    \"Date\": yields[\"Date\"],\n",
    "    \"Always_91d\": (1 + yields[\"r_91d\"]).cumprod(),\n",
    "    \"Always_364d\": (1 + yields[\"r_364d\"]).cumprod(),\n",
    "    \"Always_10y\": (1 + yields[\"r_10y\"]).cumprod(),\n",
    "    \"EpsGreedy\": eg_df[\"EG_wealth\"],\n",
    "})\n",
    "\n",
    "plt.figure(figsize=(9,4))\n",
    "for col in [\"Always_91d\",\"Always_364d\",\"Always_10y\",\"EpsGreedy\"]:\n",
    "    plt.plot(base_curves[\"Date\"], base_curves[col], label=col)\n",
    "plt.legend(); plt.title(\"Equity Curves\"); plt.xlabel(\"Date\"); plt.ylabel(\"Wealth (₹=1 start)\")\n",
    "plt.show()\n",
    "\n",
    "\n"
   ]
  },
  {
   "cell_type": "code",
   "execution_count": 31,
   "id": "04186d57",
   "metadata": {},
   "outputs": [
    {
     "data": {
      "image/png": "[encoded data removed]",
      "text/plain": [
       "<Figure size 648x180 with 1 Axes>"
      ]
     },
     "metadata": {
      "needs_background": "light"
     },
     "output_type": "display_data"
    }
   ],
   "source": [
    "# visualize allocation path\n",
    "plt.figure(figsize=(9,2.5))\n",
    "plt.plot(eg_df[\"Date\"], [ {\"91d\":0,\"364d\":1,\"10y\":2}[a] for a in eg_df[\"EG_arm\"] ], linewidth=0.8)\n",
    "plt.yticks([0,1,2], [\"91d\",\"364d\",\"10y\"])\n",
    "plt.title(\"Epsilon-Greedy: Chosen Arm Over Time\")\n",
    "plt.show()"
   ]
  },
  {
   "cell_type": "code",
   "execution_count": 32,
   "id": "5350ebc7",
   "metadata": {},
   "outputs": [
    {
     "data": {
      "image/png": "[encoded data removed]",
      "text/plain": [
       "<Figure size 648x180 with 1 Axes>"
      ]
     },
     "metadata": {
      "needs_background": "light"
     },
     "output_type": "display_data"
    }
   ],
   "source": [
    "plt.figure(figsize=(9,2.5))\n",
    "plt.scatter(eg_df[\"Date\"], eg_df[\"EG_arm\"], s=2, alpha=0.5)\n",
    "plt.yticks([0,1,2], [\"91d\",\"364d\",\"10y\"])\n",
    "plt.title(\"EpsGreedy: Chosen Arm Over Time\")\n",
    "plt.show()\n"
   ]
  },
  {
   "cell_type": "markdown",
   "id": "d49730b0",
   "metadata": {},
   "source": [
    "contextual LinUCB (uses slope features)\n",
    "\n",
    "For a smarter policy, feed it context \n",
    "xt\n",
    "x\n",
    "t\n",
    "\t​\n",
    "\n",
    " = [slope, Δslope, 5-day 10y momentum], using yesterday’s values (lagged by 1) so there’s no look-ahead."
   ]
  },
  {
   "cell_type": "code",
   "execution_count": 33,
   "id": "329d794b",
   "metadata": {},
   "outputs": [],
   "source": [
    "# Feature prep \n",
    "\n",
    "# features\n",
    "yields[\"slope\"]   = yields[\"Yield_10y\"] - yields[\"Yield_91d\"]\n",
    "yields[\"dslope\"]  = yields[\"slope\"].diff()\n",
    "yields[\"dm10\"]    = yields[\"Yield_10y\"].diff().rolling(5).mean()\n",
    "\n",
    "# lag by 1 day for decision-time\n",
    "X = yields[[\"slope\",\"dslope\",\"dm10\"]].shift(1).to_numpy()\n",
    "R = yields[[\"r_91d\",\"r_364d\",\"r_10y\"]].to_numpy()\n",
    "\n",
    "# drop initial NaNs\n",
    "mask = ~np.isnan(X).any(axis=1)\n",
    "X, R = X[mask], R[mask]\n",
    "dates = yields.loc[mask, \"Date\"].to_numpy()\n"
   ]
  },
  {
   "cell_type": "markdown",
   "id": "6fe3f819",
   "metadata": {},
   "source": [
    "LinUCB (disjoint per arm):"
   ]
  },
  {
   "cell_type": "code",
   "execution_count": 34,
   "id": "bfb86d52",
   "metadata": {},
   "outputs": [
    {
     "data": {
      "image/png": "[encoded data removed]",
      "text/plain": [
       "<Figure size 648x288 with 1 Axes>"
      ]
     },
     "metadata": {
      "needs_background": "light"
     },
     "output_type": "display_data"
    }
   ],
   "source": [
    "def linucb_disjoint(X, R, alpha=0.5):\n",
    "    T, d = X.shape\n",
    "    K = R.shape[1]\n",
    "    A = [np.eye(d) for _ in range(K)]     # d x d\n",
    "    b = [np.zeros((d,)) for _ in range(K)]\n",
    "    picks = np.zeros(T, dtype=int)\n",
    "    rew   = np.zeros(T, dtype=float)\n",
    "\n",
    "    for t in range(T):\n",
    "        x = X[t]\n",
    "        # compute UCB per arm\n",
    "        p = np.zeros(K)\n",
    "        for a in range(K):\n",
    "            A_inv = np.linalg.inv(A[a])\n",
    "            theta = A_inv @ b[a]\n",
    "            p[a]  = theta @ x + alpha * np.sqrt(x @ A_inv @ x)\n",
    "        a = int(np.argmax(p))\n",
    "        r_t = R[t, a]\n",
    "\n",
    "        # update that arm\n",
    "        A[a] += np.outer(x, x)\n",
    "        b[a] += r_t * x\n",
    "\n",
    "        picks[t] = a\n",
    "        rew[t]   = r_t\n",
    "\n",
    "    return picks, rew\n",
    "\n",
    "lpicks, lrew = linucb_disjoint(X, R, alpha=0.5)\n",
    "\n",
    "lin_eq = (1 + pd.Series(lrew)).cumprod()\n",
    "lin_df = pd.DataFrame({\"Date\": dates, \"LinUCB\": lin_eq, \"Arm\": [arms[i] for i in lpicks]})\n",
    "\n",
    "# compare\n",
    "cmp = pd.DataFrame({\n",
    "    \"Date\": dates,\n",
    "    \"Always_91d\": (1 + yields.loc[mask, \"r_91d\"]).cumprod().to_numpy(),\n",
    "    \"Always_364d\": (1 + yields.loc[mask, \"r_364d\"]).cumprod().to_numpy(),\n",
    "    \"Always_10y\": (1 + yields.loc[mask, \"r_10y\"]).cumprod().to_numpy(),\n",
    "    \"LinUCB\": lin_df[\"LinUCB\"].to_numpy()\n",
    "})\n",
    "\n",
    "plt.figure(figsize=(9,4))\n",
    "for col in [\"Always_91d\",\"Always_364d\",\"Always_10y\",\"LinUCB\"]:\n",
    "    plt.plot(cmp[\"Date\"], cmp[col], label=col)\n",
    "plt.legend(); plt.title(\"LinUCB vs Baselines\"); plt.xlabel(\"Date\"); plt.ylabel(\"Wealth (₹=1 start)\")\n",
    "plt.show()\n"
   ]
  },
  {
   "cell_type": "markdown",
   "id": "bc57ed97",
   "metadata": {},
   "source": [
    "Now we want to compare them together (add LinUCB to the same baseline plot as ε-greedy):"
   ]
  },
  {
   "cell_type": "code",
   "execution_count": 35,
   "id": "104e52fc",
   "metadata": {},
   "outputs": [
    {
     "data": {
      "image/png": "[encoded data removed]",
      "text/plain": [
       "<Figure size 648x288 with 1 Axes>"
      ]
     },
     "metadata": {
      "needs_background": "light"
     },
     "output_type": "display_data"
    }
   ],
   "source": [
    "plt.figure(figsize=(9,4))\n",
    "for col in [\"Always_91d\",\"Always_364d\",\"Always_10y\"]:\n",
    "    plt.plot(base_curves[\"Date\"], base_curves[col], label=col)\n",
    "plt.plot(lin_df[\"Date\"], lin_df[\"LinUCB\"], label=\"LinUCB\", color=\"red\")\n",
    "plt.plot(eg_df[\"Date\"], eg_df[\"EG_wealth\"], label=\"EpsGreedy\", color=\"purple\")\n",
    "plt.legend(); plt.title(\"Bandits vs Baselines\"); plt.xlabel(\"Date\"); plt.ylabel(\"Wealth (₹=1 start)\")\n",
    "plt.show()\n"
   ]
  },
  {
   "cell_type": "markdown",
   "id": "6f5d257b",
   "metadata": {},
   "source": [
    "End - to prepare report and presentation."
   ]
  },
  {
   "cell_type": "code",
   "execution_count": null,
   "id": "0fb27e9a",
   "metadata": {
    "vscode": {
     "languageId": "markdown"
    }
   },
   "outputs": [],
   "source": [
    "# Bandit Strategies for Indian Government Securities: Project Report\n",
    "\n",
    "## 1. Data Sources\n",
    "\n",
    "- **RBI DBIE Tables:**\n",
    "    - **91-day & 364-day T-bills:**  \n",
    "      Downloaded auction cut-off yields from RBI’s official Excel tables.\n",
    "    - **10-year SGL Bonds:**  \n",
    "      Monthly yield data for various maturities, including 10-year, from SGL transaction tables.\n",
    "\n",
    "## 2. Data Cleaning & Preparation\n",
    "\n",
    "- **T-bills (91d, 364d):**\n",
    "    - Extracted relevant columns: auction date and cut-off yield.\n",
    "    - Converted dates and yields to numeric types.\n",
    "    - **Duplicates:**  \n",
    "      For days with multiple auctions, kept only the last observation per date.\n",
    "\n",
    "- **10-year SGL:**\n",
    "    - Parsed fiscal-year blocks and forward-filled fiscal year labels.\n",
    "    - Extracted the row for 10-year maturity (or nearest available) for each fiscal year.\n",
    "    - Mapped fiscal months (Apr–Mar) to calendar dates.\n",
    "    - **Resampling:**  \n",
    "      All series were resampled to daily frequency using forward fill to align for analysis.\n",
    "\n",
    "## 3. Reward Proxy\n",
    "\n",
    "- **Daily Reward Calculation:**  \n",
    "  For each instrument, daily reward = (annual yield in %) / 100 / 365.\n",
    "- **Duration Penalty:**  \n",
    "  To reflect mark-to-market risk:\n",
    "    - 91d: No penalty.\n",
    "    - 364d: 0.25 × |Δyield|.\n",
    "    - 10y: 0.50 × |Δyield|.\n",
    "  (Δyield is the daily change in yield; penalties are heuristics to approximate risk.)\n",
    "\n",
    "## 4. Baseline Strategies\n",
    "\n",
    "- **Always-91d:** Invest in 91-day T-bill every day.\n",
    "- **Always-364d:** Invest in 364-day T-bill every day.\n",
    "- **Always-10y:** Invest in 10-year bond every day.\n",
    "- **Pick-Highest-Reward:** Oracle strategy that picks the arm with the highest reward each day (not implementable in practice, serves as an upper bound).\n",
    "\n",
    "## 5. Bandit Algorithms\n",
    "\n",
    "- **ε-Greedy Bandit:**\n",
    "    - With probability ε=0.05, explores a random arm; otherwise, exploits the arm with the highest running average reward.\n",
    "    - **Switching Cost:**  \n",
    "      Subtracts 1 basis point (0.0001) from reward when switching arms to discourage excessive trading.\n",
    "\n",
    "- **Contextual LinUCB (optional, advanced):**\n",
    "    - Uses context features: yield curve slope (10y–91d), change in slope, and 5-day momentum of 10y yield.\n",
    "    - Learns a linear model per arm to predict expected reward and balances exploration/exploitation.\n",
    "\n",
    "## 6. Evaluation Metrics\n",
    "\n",
    "- **Terminal Wealth:**  \n",
    "  Cumulative product of (1 + daily reward), starting from ₹1.\n",
    "- **Annualized Return & Volatility:**  \n",
    "  Mean and standard deviation of daily rewards, annualized.\n",
    "- **Sharpe Ratio:**  \n",
    "  Annualized return divided by annualized volatility.\n",
    "\n",
    "## 7. Key Takeaways\n",
    "\n",
    "- **Yield Curve Dynamics:**  \n",
    "  When the yield curve flattens (long rates fall relative to short), long-duration (10y) outperforms.  \n",
    "  When the curve steepens (short rates rise), short-duration (91d) wins.\n",
    "- **Bandit Adaptivity:**  \n",
    "  The ε-greedy bandit adapts to changing environments, switching between arms as relative rewards shift.\n",
    "- **Contextual Bandit:**  \n",
    "  Incorporating features like slope and momentum (LinUCB) can further improve adaptivity and performance.\n",
    "\n",
    "---\n",
    "\n",
    "**Summary:**  \n",
    "We built a robust pipeline to clean, align, and analyze Indian government securities data, designed a realistic reward proxy, and benchmarked both simple and adaptive bandit strategies. The bandit approach demonstrates the ability to adapt to changing yield environments, balancing risk and reward dynamically. This framework can be extended to more complex contexts or additional instruments as needed."
   ]
  },
  {
   "cell_type": "markdown",
   "id": "524b1a4f",
   "metadata": {},
   "source": []
  }
 ],
 "metadata": {
  "kernelspec": {
   "display_name": "base",
   "language": "python",
   "name": "python3"
  },
  "language_info": {
   "codemirror_mode": {
    "name": "ipython",
    "version": 3
   },
   "file_extension": ".py",
   "mimetype": "text/x-python",
   "name": "python",
   "nbconvert_exporter": "python",
   "pygments_lexer": "ipython3",
   "version": "3.9.7"
  }
 },
 "nbformat": 4,
 "nbformat_minor": 5
}
